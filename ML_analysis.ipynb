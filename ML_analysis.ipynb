{
 "cells": [
  {
   "cell_type": "markdown",
   "metadata": {},
   "source": [
    "# ML model training"
   ]
  },
  {
   "cell_type": "markdown",
   "metadata": {},
   "source": [
    "## Start by importing the necessary libraries"
   ]
  },
  {
   "cell_type": "code",
   "execution_count": 1,
   "metadata": {},
   "outputs": [],
   "source": [
    "import pandas as pd\n",
    "import numpy as np\n",
    "import seaborn as sns\n",
    "import matplotlib as plt\n",
    "from sklearn.ensemble import RandomForestRegressor\n",
    "from sklearn.model_selection import train_test_split\n",
    "from sklearn.preprocessing import MinMaxScaler\n",
    "from sklearn.metrics import mean_squared_error\n",
    "import joblib\n",
    "\n",
    "%matplotlib inline\n",
    "plt.rcParams[\"figure.figsize\"] = (12,9)"
   ]
  },
  {
   "cell_type": "markdown",
   "metadata": {},
   "source": [
    "## Load and clean the data"
   ]
  },
  {
   "cell_type": "code",
   "execution_count": 20,
   "metadata": {},
   "outputs": [
    {
     "data": {
      "text/html": [
       "<div>\n",
       "<style scoped>\n",
       "    .dataframe tbody tr th:only-of-type {\n",
       "        vertical-align: middle;\n",
       "    }\n",
       "\n",
       "    .dataframe tbody tr th {\n",
       "        vertical-align: top;\n",
       "    }\n",
       "\n",
       "    .dataframe thead th {\n",
       "        text-align: right;\n",
       "    }\n",
       "</style>\n",
       "<table border=\"1\" class=\"dataframe\">\n",
       "  <thead>\n",
       "    <tr style=\"text-align: right;\">\n",
       "      <th></th>\n",
       "      <th>Start</th>\n",
       "      <th>End</th>\n",
       "      <th>Sleep quality</th>\n",
       "      <th>Time in bed</th>\n",
       "      <th>Wake up</th>\n",
       "      <th>Sleep Notes</th>\n",
       "      <th>Heart rate</th>\n",
       "      <th>Activity (steps)</th>\n",
       "      <th>Start time</th>\n",
       "      <th>End time</th>\n",
       "      <th>Start time in second</th>\n",
       "      <th>End time in second</th>\n",
       "    </tr>\n",
       "  </thead>\n",
       "  <tbody>\n",
       "    <tr>\n",
       "      <th>0</th>\n",
       "      <td>2014-12-29 22:57:49</td>\n",
       "      <td>2014-12-30 07:30:13</td>\n",
       "      <td>100</td>\n",
       "      <td>30744.0</td>\n",
       "      <td>2.0</td>\n",
       "      <td>NaN</td>\n",
       "      <td>59.0</td>\n",
       "      <td>0</td>\n",
       "      <td>22:57:49</td>\n",
       "      <td>07:30:13</td>\n",
       "      <td>82669</td>\n",
       "      <td>27013</td>\n",
       "    </tr>\n",
       "    <tr>\n",
       "      <th>1</th>\n",
       "      <td>2014-12-30 21:17:50</td>\n",
       "      <td>2014-12-30 21:33:54</td>\n",
       "      <td>3</td>\n",
       "      <td>964.0</td>\n",
       "      <td>1.0</td>\n",
       "      <td>Stressful day</td>\n",
       "      <td>72.0</td>\n",
       "      <td>0</td>\n",
       "      <td>21:17:50</td>\n",
       "      <td>21:33:54</td>\n",
       "      <td>76670</td>\n",
       "      <td>77634</td>\n",
       "    </tr>\n",
       "    <tr>\n",
       "      <th>2</th>\n",
       "      <td>2014-12-30 22:42:49</td>\n",
       "      <td>2014-12-31 07:13:31</td>\n",
       "      <td>98</td>\n",
       "      <td>30642.0</td>\n",
       "      <td>1.0</td>\n",
       "      <td>NaN</td>\n",
       "      <td>57.0</td>\n",
       "      <td>0</td>\n",
       "      <td>22:42:49</td>\n",
       "      <td>07:13:31</td>\n",
       "      <td>81769</td>\n",
       "      <td>26011</td>\n",
       "    </tr>\n",
       "    <tr>\n",
       "      <th>3</th>\n",
       "      <td>2014-12-31 22:31:01</td>\n",
       "      <td>2015-01-01 06:03:01</td>\n",
       "      <td>65</td>\n",
       "      <td>27120.0</td>\n",
       "      <td>NaN</td>\n",
       "      <td>NaN</td>\n",
       "      <td>NaN</td>\n",
       "      <td>0</td>\n",
       "      <td>22:31:01</td>\n",
       "      <td>06:03:01</td>\n",
       "      <td>81061</td>\n",
       "      <td>21781</td>\n",
       "    </tr>\n",
       "    <tr>\n",
       "      <th>4</th>\n",
       "      <td>2015-01-01 22:12:10</td>\n",
       "      <td>2015-01-02 04:56:35</td>\n",
       "      <td>72</td>\n",
       "      <td>24265.0</td>\n",
       "      <td>2.0</td>\n",
       "      <td>Drank coffee:Drank tea</td>\n",
       "      <td>68.0</td>\n",
       "      <td>0</td>\n",
       "      <td>22:12:10</td>\n",
       "      <td>04:56:35</td>\n",
       "      <td>79930</td>\n",
       "      <td>17795</td>\n",
       "    </tr>\n",
       "  </tbody>\n",
       "</table>\n",
       "</div>"
      ],
      "text/plain": [
       "                Start                 End  Sleep quality  Time in bed  \\\n",
       "0 2014-12-29 22:57:49 2014-12-30 07:30:13            100      30744.0   \n",
       "1 2014-12-30 21:17:50 2014-12-30 21:33:54              3        964.0   \n",
       "2 2014-12-30 22:42:49 2014-12-31 07:13:31             98      30642.0   \n",
       "3 2014-12-31 22:31:01 2015-01-01 06:03:01             65      27120.0   \n",
       "4 2015-01-01 22:12:10 2015-01-02 04:56:35             72      24265.0   \n",
       "\n",
       "   Wake up             Sleep Notes  Heart rate  Activity (steps) Start time  \\\n",
       "0      2.0                     NaN        59.0                 0   22:57:49   \n",
       "1      1.0           Stressful day        72.0                 0   21:17:50   \n",
       "2      1.0                     NaN        57.0                 0   22:42:49   \n",
       "3      NaN                     NaN         NaN                 0   22:31:01   \n",
       "4      2.0  Drank coffee:Drank tea        68.0                 0   22:12:10   \n",
       "\n",
       "   End time  Start time in second  End time in second  \n",
       "0  07:30:13                 82669               27013  \n",
       "1  21:33:54                 76670               77634  \n",
       "2  07:13:31                 81769               26011  \n",
       "3  06:03:01                 81061               21781  \n",
       "4  04:56:35                 79930               17795  "
      ]
     },
     "execution_count": 20,
     "metadata": {},
     "output_type": "execute_result"
    }
   ],
   "source": [
    "df = pd.read_csv('data/sleepdata.csv', sep=';', parse_dates=['Start', 'End'])\n",
    "df['Start time'] = pd.Series([val.time() for val in df['Start']])\n",
    "df['End time'] = pd.Series([val.time() for val in df['End']])\n",
    "df['Start time in second'] = df['Start time'].apply(lambda x: (x.hour*60+x.minute)*60 + x.second)\n",
    "df['End time in second'] = df['End time'].apply(lambda x: (x.hour*60+x.minute)*60 + x.second)\n",
    "df['Time in bed'] = df['End'] - df['Start']\n",
    "df['Time in bed'] = df['Time in bed'].astype('timedelta64[s]') # in seconds\n",
    "# convert sleep quality to float:\n",
    "df['Sleep quality'] = df['Sleep quality'].apply(lambda x: np.nan if x in ['-'] else x[:-1]).astype(int)\n",
    "df['Wake up'] = df['Wake up'].replace({':)':2, ':|':1, ':(':0})\n",
    "df.head()"
   ]
  },
  {
   "cell_type": "code",
   "execution_count": 21,
   "metadata": {},
   "outputs": [],
   "source": [
    "df['External_fact']=0\n",
    "df.loc[~df['Sleep Notes'].isna(), 'External_fact' ]=1"
   ]
  },
  {
   "cell_type": "code",
   "execution_count": 22,
   "metadata": {},
   "outputs": [
    {
     "data": {
      "image/png": "[encoded data removed]",
      "text/plain": [
       "<Figure size 864x648 with 1 Axes>"
      ]
     },
     "metadata": {},
     "output_type": "display_data"
    }
   ],
   "source": [
    "sns.set_theme()\n",
    "plot = sns.histplot(df, x='Sleep quality')\n",
    "# plot.set_title('Sleep quality distribution')"
   ]
  },
  {
   "cell_type": "code",
   "execution_count": 5,
   "metadata": {},
   "outputs": [
    {
     "name": "stderr",
     "output_type": "stream",
     "text": [
      "c:\\Users\\kvankuijk\\Documents\\uni\\IS\\project_video\\Intelligent_Systems\\env\\lib\\site-packages\\ipykernel_launcher.py:1: DeprecationWarning: `np.bool` is a deprecated alias for the builtin `bool`. To silence this warning, use `bool` by itself. Doing this will not modify any behavior and is safe. If you specifically wanted the numpy scalar type, use `np.bool_` here.\n",
      "Deprecated in NumPy 1.20; for more details and guidance: https://numpy.org/devdocs/release/1.20.0-notes.html#deprecations\n",
      "  \"\"\"Entry point for launching an IPython kernel.\n"
     ]
    },
    {
     "data": {
      "image/png": "[encoded data removed]",
      "text/plain": [
       "<Figure size 864x648 with 2 Axes>"
      ]
     },
     "metadata": {},
     "output_type": "display_data"
    }
   ],
   "source": [
    "mask = np.triu(np.ones_like(df.corr(), dtype=np.bool))\n",
    "plot = sns.heatmap(df.corr(), annot=True, mask=mask, vmin=-1, vmax=1,)"
   ]
  },
  {
   "cell_type": "code",
   "execution_count": 23,
   "metadata": {},
   "outputs": [],
   "source": [
    "df.dropna(inplace=True)\n",
    "X = df[['Time in bed', 'Start time in second','End time in second','Activity (steps)','External_fact']].values\n",
    "y = df['Sleep quality'].values"
   ]
  },
  {
   "cell_type": "markdown",
   "metadata": {},
   "source": [
    "Train a basic model without hyperparameter tuning"
   ]
  },
  {
   "cell_type": "code",
   "execution_count": 10,
   "metadata": {},
   "outputs": [
    {
     "data": {
      "text/plain": [
       "0.2275092884079961"
      ]
     },
     "execution_count": 10,
     "metadata": {},
     "output_type": "execute_result"
    }
   ],
   "source": [
    "from sklearn.linear_model import LinearRegression\n",
    "X_train, X_test, y_train, y_test = train_test_split(X, y, test_size=0.2)\n",
    "rf = RandomForestRegressor()\n",
    "rf.fit(X_train, y_train)\n",
    "rf.score(X_test, y_test)"
   ]
  },
  {
   "cell_type": "code",
   "execution_count": 11,
   "metadata": {},
   "outputs": [
    {
     "data": {
      "text/plain": [
       "14.773909981079223"
      ]
     },
     "execution_count": 11,
     "metadata": {},
     "output_type": "execute_result"
    }
   ],
   "source": [
    "y_pred = rf.predict(X_test)\n",
    "mean_squared_error(y_test, y_pred, squared=False)"
   ]
  },
  {
   "cell_type": "code",
   "execution_count": 16,
   "metadata": {},
   "outputs": [
    {
     "data": {
      "text/plain": [
       "['finalized_model.joblib']"
      ]
     },
     "execution_count": 16,
     "metadata": {},
     "output_type": "execute_result"
    }
   ],
   "source": [
    "filename = 'finalized_model.joblib'\n",
    "joblib.dump(rf, filename)"
   ]
  },
  {
   "cell_type": "markdown",
   "metadata": {},
   "source": [
    "## Hyperparameter Tuning"
   ]
  },
  {
   "cell_type": "code",
   "execution_count": 17,
   "metadata": {},
   "outputs": [],
   "source": [
    "from sklearn.model_selection import GridSearchCV\n",
    "from sklearn.model_selection import RepeatedKFold"
   ]
  },
  {
   "cell_type": "code",
   "execution_count": 25,
   "metadata": {},
   "outputs": [],
   "source": [
    "rf = RandomForestRegressor()\n",
    "df.dropna(inplace=True)\n",
    "X = df[['Time in bed', 'Start time in second','End time in second','Activity (steps)','External_fact']].values\n",
    "y = df['Sleep quality'].values\n",
    "X_train, X_test, y_train, y_test = train_test_split(X, y, test_size=0.2)"
   ]
  },
  {
   "cell_type": "code",
   "execution_count": 26,
   "metadata": {},
   "outputs": [],
   "source": [
    "n_estimators = range(1,200,2)\n",
    "max_depth= range(1,100,1)\n",
    "min_samples_split=range(2,10,1)\n",
    "min_samples_leaf=range(1,10,1)\n",
    "grid = dict(n_estimators=n_estimators, max_depth=max_depth, min_samples_split=min_samples_split, min_samples_leaf=min_samples_leaf)"
   ]
  },
  {
   "cell_type": "code",
   "execution_count": 28,
   "metadata": {},
   "outputs": [],
   "source": [
    "from scipy.stats import uniform, geom, loguniform, randint, expon\n",
    "from sklearn.model_selection import RandomizedSearchCV"
   ]
  },
  {
   "cell_type": "code",
   "execution_count": 29,
   "metadata": {},
   "outputs": [
    {
     "name": "stdout",
     "output_type": "stream",
     "text": [
      "Fitting 10 folds for each of 100 candidates, totalling 1000 fits\n",
      "Best Training Score:  -9.828073100696571 \n",
      "Best Test Score:  -10.741648372224702\n"
     ]
    }
   ],
   "source": [
    "import warnings\n",
    "warnings.simplefilter(\"ignore\")\n",
    "rf = RandomForestRegressor()\n",
    "X_train, X_test, y_train, y_test = train_test_split(X, y, test_size=0.2)\n",
    "\n",
    "N_ITER = 100\n",
    "N_JOBS = 1\n",
    "K_FOLDS = 10\n",
    "N_ITER_NO_CHANGE = 100\n",
    "RANDOM_STATE = 10\n",
    "SCORING_METRIC = 'neg_root_mean_squared_error'\n",
    "\n",
    "hyper_parameters = {\n",
    "        'n_estimators': randint(50,500),\n",
    "        'max_depth': randint(3,10),\n",
    "        'min_samples_split': randint(2,20),\n",
    "        'random_state': [RANDOM_STATE],\n",
    "        'min_samples_leaf': randint(1,10)\n",
    "}\n",
    "\n",
    "search_space = RandomizedSearchCV(\n",
    "    rf, hyper_parameters, \n",
    "    n_iter = N_ITER, cv=K_FOLDS,\n",
    "    scoring=SCORING_METRIC, n_jobs = N_JOBS, \n",
    "    return_train_score=True, verbose = 1\n",
    ")\n",
    "search_space.fit(X_train, y_train) \n",
    "\n",
    "y_pred = search_space.best_estimator_.predict(X_train)\n",
    "y_pred_prob = search_space.best_estimator_.predict(X_train)\n",
    "y_pred_test = search_space.best_estimator_.predict(X_test)\n",
    "\n",
    "print( \n",
    "    'Best Training Score: ', search_space.cv_results_['mean_train_score'][search_space.best_index_], \n",
    "    '\\nBest Test Score: ', search_space.best_score_,\n",
    ")"
   ]
  },
  {
   "cell_type": "code",
   "execution_count": 30,
   "metadata": {},
   "outputs": [],
   "source": [
    "search_space_df = pd.DataFrame(search_space.cv_results_)"
   ]
  },
  {
   "cell_type": "code",
   "execution_count": 32,
   "metadata": {},
   "outputs": [
    {
     "data": {
      "text/plain": [
       "<AxesSubplot:xlabel='param_n_estimators', ylabel='mean_train_score'>"
      ]
     },
     "execution_count": 32,
     "metadata": {},
     "output_type": "execute_result"
    },
    {
     "data": {
      "image/png": "[encoded data removed]",
      "text/plain": [
       "<Figure size 1080x720 with 4 Axes>"
      ]
     },
     "metadata": {},
     "output_type": "display_data"
    }
   ],
   "source": [
    "# relplot lineplot\n",
    "import matplotlib.pyplot as plt\n",
    "fig, axes = plt.subplots(2, 2, figsize=(15, 10), sharey=True)\n",
    "fig.suptitle('Hyperparameter Tuning Score Using Randomized Search')\n",
    "\n",
    "sns.lineplot(data = search_space_df, x='param_max_depth', y='mean_train_score', color='g',\n",
    "             ax=axes[0][0])\n",
    "\n",
    "sns.kdeplot(data = search_space_df, x='param_min_samples_split', y='mean_train_score', shade=True, color='r',\n",
    "             ax=axes[0][1])\n",
    "\n",
    "sns.lineplot(data = search_space_df, x='param_min_samples_leaf', y='mean_train_score', \n",
    "            # shade=True, color='r',\n",
    "             ax=axes[1][0])\n",
    "\n",
    "sns.kdeplot(\n",
    "    data=search_space_df,\n",
    "    x=\"param_n_estimators\", y=\"mean_train_score\", shade=True)"
   ]
  },
  {
   "cell_type": "code",
   "execution_count": 33,
   "metadata": {},
   "outputs": [
    {
     "data": {
      "text/html": [
       "<div>\n",
       "<style scoped>\n",
       "    .dataframe tbody tr th:only-of-type {\n",
       "        vertical-align: middle;\n",
       "    }\n",
       "\n",
       "    .dataframe tbody tr th {\n",
       "        vertical-align: top;\n",
       "    }\n",
       "\n",
       "    .dataframe thead th {\n",
       "        text-align: right;\n",
       "    }\n",
       "</style>\n",
       "<table border=\"1\" class=\"dataframe\">\n",
       "  <thead>\n",
       "    <tr style=\"text-align: right;\">\n",
       "      <th></th>\n",
       "      <th>mean_fit_time</th>\n",
       "      <th>std_fit_time</th>\n",
       "      <th>mean_score_time</th>\n",
       "      <th>std_score_time</th>\n",
       "      <th>param_max_depth</th>\n",
       "      <th>param_min_samples_leaf</th>\n",
       "      <th>param_min_samples_split</th>\n",
       "      <th>param_n_estimators</th>\n",
       "      <th>param_random_state</th>\n",
       "      <th>params</th>\n",
       "      <th>...</th>\n",
       "      <th>split2_train_score</th>\n",
       "      <th>split3_train_score</th>\n",
       "      <th>split4_train_score</th>\n",
       "      <th>split5_train_score</th>\n",
       "      <th>split6_train_score</th>\n",
       "      <th>split7_train_score</th>\n",
       "      <th>split8_train_score</th>\n",
       "      <th>split9_train_score</th>\n",
       "      <th>mean_train_score</th>\n",
       "      <th>std_train_score</th>\n",
       "    </tr>\n",
       "  </thead>\n",
       "  <tbody>\n",
       "    <tr>\n",
       "      <th>0</th>\n",
       "      <td>0.211462</td>\n",
       "      <td>0.024294</td>\n",
       "      <td>0.016806</td>\n",
       "      <td>0.002436</td>\n",
       "      <td>6</td>\n",
       "      <td>7</td>\n",
       "      <td>16</td>\n",
       "      <td>226</td>\n",
       "      <td>10</td>\n",
       "      <td>{'max_depth': 6, 'min_samples_leaf': 7, 'min_s...</td>\n",
       "      <td>...</td>\n",
       "      <td>-10.383545</td>\n",
       "      <td>-8.093943</td>\n",
       "      <td>-10.010751</td>\n",
       "      <td>-10.339094</td>\n",
       "      <td>-9.557918</td>\n",
       "      <td>-10.145882</td>\n",
       "      <td>-10.070211</td>\n",
       "      <td>-10.162177</td>\n",
       "      <td>-9.918319</td>\n",
       "      <td>0.645534</td>\n",
       "    </tr>\n",
       "    <tr>\n",
       "      <th>1</th>\n",
       "      <td>0.094466</td>\n",
       "      <td>0.008542</td>\n",
       "      <td>0.008024</td>\n",
       "      <td>0.000547</td>\n",
       "      <td>3</td>\n",
       "      <td>7</td>\n",
       "      <td>5</td>\n",
       "      <td>105</td>\n",
       "      <td>10</td>\n",
       "      <td>{'max_depth': 3, 'min_samples_leaf': 7, 'min_s...</td>\n",
       "      <td>...</td>\n",
       "      <td>-10.638510</td>\n",
       "      <td>-8.280509</td>\n",
       "      <td>-10.194851</td>\n",
       "      <td>-10.552325</td>\n",
       "      <td>-9.694967</td>\n",
       "      <td>-10.321192</td>\n",
       "      <td>-10.267122</td>\n",
       "      <td>-10.321160</td>\n",
       "      <td>-10.111984</td>\n",
       "      <td>0.657029</td>\n",
       "    </tr>\n",
       "    <tr>\n",
       "      <th>2</th>\n",
       "      <td>0.344085</td>\n",
       "      <td>0.025461</td>\n",
       "      <td>0.031916</td>\n",
       "      <td>0.019477</td>\n",
       "      <td>4</td>\n",
       "      <td>1</td>\n",
       "      <td>2</td>\n",
       "      <td>386</td>\n",
       "      <td>10</td>\n",
       "      <td>{'max_depth': 4, 'min_samples_leaf': 1, 'min_s...</td>\n",
       "      <td>...</td>\n",
       "      <td>-8.263829</td>\n",
       "      <td>-6.865952</td>\n",
       "      <td>-7.570096</td>\n",
       "      <td>-7.976833</td>\n",
       "      <td>-7.196521</td>\n",
       "      <td>-7.711218</td>\n",
       "      <td>-7.740505</td>\n",
       "      <td>-7.665520</td>\n",
       "      <td>-7.658592</td>\n",
       "      <td>0.369565</td>\n",
       "    </tr>\n",
       "    <tr>\n",
       "      <th>3</th>\n",
       "      <td>0.351130</td>\n",
       "      <td>0.047944</td>\n",
       "      <td>0.025174</td>\n",
       "      <td>0.003973</td>\n",
       "      <td>7</td>\n",
       "      <td>2</td>\n",
       "      <td>4</td>\n",
       "      <td>328</td>\n",
       "      <td>10</td>\n",
       "      <td>{'max_depth': 7, 'min_samples_leaf': 2, 'min_s...</td>\n",
       "      <td>...</td>\n",
       "      <td>-7.785315</td>\n",
       "      <td>-5.772214</td>\n",
       "      <td>-7.176184</td>\n",
       "      <td>-7.566538</td>\n",
       "      <td>-6.748541</td>\n",
       "      <td>-7.215738</td>\n",
       "      <td>-7.051324</td>\n",
       "      <td>-7.231530</td>\n",
       "      <td>-7.129320</td>\n",
       "      <td>0.524698</td>\n",
       "    </tr>\n",
       "    <tr>\n",
       "      <th>4</th>\n",
       "      <td>0.221980</td>\n",
       "      <td>0.031848</td>\n",
       "      <td>0.013982</td>\n",
       "      <td>0.003096</td>\n",
       "      <td>4</td>\n",
       "      <td>7</td>\n",
       "      <td>14</td>\n",
       "      <td>217</td>\n",
       "      <td>10</td>\n",
       "      <td>{'max_depth': 4, 'min_samples_leaf': 7, 'min_s...</td>\n",
       "      <td>...</td>\n",
       "      <td>-10.407748</td>\n",
       "      <td>-8.130046</td>\n",
       "      <td>-10.006656</td>\n",
       "      <td>-10.372948</td>\n",
       "      <td>-9.555614</td>\n",
       "      <td>-10.175907</td>\n",
       "      <td>-10.067554</td>\n",
       "      <td>-10.179353</td>\n",
       "      <td>-9.936752</td>\n",
       "      <td>0.643373</td>\n",
       "    </tr>\n",
       "  </tbody>\n",
       "</table>\n",
       "<p>5 rows × 35 columns</p>\n",
       "</div>"
      ],
      "text/plain": [
       "   mean_fit_time  std_fit_time  mean_score_time  std_score_time  \\\n",
       "0       0.211462      0.024294         0.016806        0.002436   \n",
       "1       0.094466      0.008542         0.008024        0.000547   \n",
       "2       0.344085      0.025461         0.031916        0.019477   \n",
       "3       0.351130      0.047944         0.025174        0.003973   \n",
       "4       0.221980      0.031848         0.013982        0.003096   \n",
       "\n",
       "  param_max_depth param_min_samples_leaf param_min_samples_split  \\\n",
       "0               6                      7                      16   \n",
       "1               3                      7                       5   \n",
       "2               4                      1                       2   \n",
       "3               7                      2                       4   \n",
       "4               4                      7                      14   \n",
       "\n",
       "  param_n_estimators param_random_state  \\\n",
       "0                226                 10   \n",
       "1                105                 10   \n",
       "2                386                 10   \n",
       "3                328                 10   \n",
       "4                217                 10   \n",
       "\n",
       "                                              params  ...  split2_train_score  \\\n",
       "0  {'max_depth': 6, 'min_samples_leaf': 7, 'min_s...  ...          -10.383545   \n",
       "1  {'max_depth': 3, 'min_samples_leaf': 7, 'min_s...  ...          -10.638510   \n",
       "2  {'max_depth': 4, 'min_samples_leaf': 1, 'min_s...  ...           -8.263829   \n",
       "3  {'max_depth': 7, 'min_samples_leaf': 2, 'min_s...  ...           -7.785315   \n",
       "4  {'max_depth': 4, 'min_samples_leaf': 7, 'min_s...  ...          -10.407748   \n",
       "\n",
       "   split3_train_score  split4_train_score  split5_train_score  \\\n",
       "0           -8.093943          -10.010751          -10.339094   \n",
       "1           -8.280509          -10.194851          -10.552325   \n",
       "2           -6.865952           -7.570096           -7.976833   \n",
       "3           -5.772214           -7.176184           -7.566538   \n",
       "4           -8.130046          -10.006656          -10.372948   \n",
       "\n",
       "   split6_train_score  split7_train_score  split8_train_score  \\\n",
       "0           -9.557918          -10.145882          -10.070211   \n",
       "1           -9.694967          -10.321192          -10.267122   \n",
       "2           -7.196521           -7.711218           -7.740505   \n",
       "3           -6.748541           -7.215738           -7.051324   \n",
       "4           -9.555614          -10.175907          -10.067554   \n",
       "\n",
       "   split9_train_score  mean_train_score  std_train_score  \n",
       "0          -10.162177         -9.918319         0.645534  \n",
       "1          -10.321160        -10.111984         0.657029  \n",
       "2           -7.665520         -7.658592         0.369565  \n",
       "3           -7.231530         -7.129320         0.524698  \n",
       "4          -10.179353         -9.936752         0.643373  \n",
       "\n",
       "[5 rows x 35 columns]"
      ]
     },
     "execution_count": 33,
     "metadata": {},
     "output_type": "execute_result"
    }
   ],
   "source": [
    "search_space_df.head()"
   ]
  },
  {
   "cell_type": "markdown",
   "metadata": {},
   "source": [
    "### Get results:"
   ]
  },
  {
   "cell_type": "code",
   "execution_count": 34,
   "metadata": {},
   "outputs": [
    {
     "data": {
      "text/plain": [
       "RandomForestRegressor(max_depth=3, min_samples_leaf=5, min_samples_split=6,\n",
       "                      n_estimators=250, random_state=10)"
      ]
     },
     "execution_count": 34,
     "metadata": {},
     "output_type": "execute_result"
    }
   ],
   "source": [
    "search_space.best_estimator_"
   ]
  },
  {
   "cell_type": "code",
   "execution_count": 35,
   "metadata": {},
   "outputs": [
    {
     "data": {
      "text/plain": [
       "-10.741648372224702"
      ]
     },
     "execution_count": 35,
     "metadata": {},
     "output_type": "execute_result"
    }
   ],
   "source": [
    "search_space.best_score_"
   ]
  }
 ],
 "metadata": {
  "interpreter": {
   "hash": "3a8d2cdf8041ab8dfa9592bcb1fa6d7fc7f13ebb4ccdd5e529b9f425b05d1cd7"
  },
  "kernelspec": {
   "display_name": "Python 3.7.3 ('env': venv)",
   "language": "python",
   "name": "python3"
  },
  "language_info": {
   "codemirror_mode": {
    "name": "ipython",
    "version": 3
   },
   "file_extension": ".py",
   "mimetype": "text/x-python",
   "name": "python",
   "nbconvert_exporter": "python",
   "pygments_lexer": "ipython3",
   "version": "3.7.3"
  },
  "orig_nbformat": 4
 },
 "nbformat": 4,
 "nbformat_minor": 2
}
